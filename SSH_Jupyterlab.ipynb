{
  "nbformat": 4,
  "nbformat_minor": 0,
  "metadata": {
    "colab": {
      "name": "SSH-Jupyterlab",
      "provenance": [],
      "collapsed_sections": []
    },
    "kernelspec": {
      "name": "python3",
      "display_name": "Python 3"
    },
    "accelerator": "GPU"
  },
  "cells": [
    {
      "cell_type": "code",
      "metadata": {
        "id": "cvOngRVPi9ge",
        "colab": {
          "base_uri": "https://localhost:8080/"
        },
        "outputId": "dd55034a-e5c7-46dc-9881-2cd9ae2c5504"
      },
      "source": [
        "from google.colab import drive, output\n",
        "\n",
        "# Clone Git Repo\n",
        "!rm -rf \"/content/PCG-arrhythmia-detection\"\n",
        "!git clone -b colab https://github.com/kendreaditya/PCG-arrhythmia-detection.git --quiet\n",
        "\n",
        "# Install Dependencies\n",
        "!cd /content/PCG-arrhythmia-detection && pip3 install -r requirements.txt\n",
        "!pip3 install matplotlib\n",
        "!pip3 install PyWavelets==1.1.1\n",
        "!pip3 install wandb==0.10.17\n",
        "!pip3 install scipy\n",
        "!pip3 install numpy\n",
        "!pip3 install pandas\n",
        "!pip3 install pytorch_lightning==1.1.4\n",
        "!pip3 install tqdm==4.51.0\n",
        "!pip3 install scikit_learn\n",
        "!pip3 install -U memory_profiler\n",
        "!pip3 install nvidia_smi\n",
        "!pip install torch==1.7.1+cu101 torchvision==0.8.2+cu101 torchaudio===0.7.2 -f https://download.pytorch.org/whl/torch_stable.html\n",
        "output.clear()\n",
        "\n",
        "# Mount Google Drive\n",
        "from google.colab import drive\n",
        "drive.mount('/content/drive')\n",
        "\n",
        "!pip install kora -q\n",
        "from kora import console\n",
        "console.start()\n",
        "\n",
        "!cd /content/PCG-arrhythmia-detection && python3 ./src/trainer.py\n",
        "import time\n",
        "while True:\n",
        "  time.sleep(100)"
      ],
      "execution_count": 5,
      "outputs": [
        {
          "output_type": "stream",
          "text": [
            "Mounted at /content/drive\n"
          ],
          "name": "stdout"
        }
      ]
    }
  ]
}